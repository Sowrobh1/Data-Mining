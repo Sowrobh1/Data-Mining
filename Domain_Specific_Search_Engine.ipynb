{
  "nbformat": 4,
  "nbformat_minor": 0,
  "metadata": {
    "colab": {
      "provenance": [],
      "authorship_tag": "ABX9TyNsuPleZXOsA80Ww7SwbrXu",
      "include_colab_link": true
    },
    "kernelspec": {
      "name": "python3",
      "display_name": "Python 3"
    },
    "language_info": {
      "name": "python"
    }
  },
  "cells": [
    {
      "cell_type": "markdown",
      "metadata": {
        "id": "view-in-github",
        "colab_type": "text"
      },
      "source": [
        "<a href=\"https://colab.research.google.com/github/Sowrobh1/Data-Mining/blob/main/Domain_Specific_Search_Engine.ipynb\" target=\"_parent\"><img src=\"https://colab.research.google.com/assets/colab-badge.svg\" alt=\"Open In Colab\"/></a>"
      ]
    },
    {
      "cell_type": "code",
      "execution_count": 35,
      "metadata": {
        "id": "TDDcA8E_kMMN"
      },
      "outputs": [],
      "source": [
        "import requests\n",
        "\n",
        "from bs4 import BeautifulSoup\n",
        "from collections import defaultdict\n",
        "import networkx as nx\n",
        "import re\n"
      ]
    },
    {
      "cell_type": "code",
      "source": [
        "# ⚽ Football Domain Seed URLs\n",
        "seed_urls = [\n",
        "    \"https://www.goal.com/en\",\n",
        "    \"https://www.espn.com/soccer/\",\n",
        "    \"https://www.skysports.com/football\",\n",
        "    \"https://www.bbc.com/sport/football\",\n",
        "    \"https://www.uefa.com/\",\n",
        "    \"https://www.fifa.com/\",\n",
        "    \"https://www.football365.com/\",\n",
        "    \"https://www.sportingnews.com/uk/soccer\",\n",
        "    \"https://www.theguardian.com/football\",\n",
        "    \"https://www.cbssports.com/soccer/\",\n",
        "    \"https://www.si.com/soccer\",\n",
        "    \"https://www.premierleague.com/\",\n",
        "    \"https://www.laliga.com/en-GB\",\n",
        "    \"https://www.bundesliga.com/en/bundesliga\",\n",
        "    \"https://www.mlssoccer.com/\",\n",
        "    \"https://www.eurosport.com/football/\",\n",
        "    \"https://www.whoscored.com/\",\n",
        "    \"https://www.transfermarkt.com/\",\n",
        "    \"https://www.soccerway.com/\",\n",
        "    \"https://www.footballtransfers.com/en\"\n",
        "]\n"
      ],
      "metadata": {
        "id": "Sgej4zQZx_Mi"
      },
      "execution_count": 36,
      "outputs": []
    },
    {
      "cell_type": "code",
      "source": [
        "# Set how many pages to crawl in total (across all sites)\n",
        "crawl_limit = 100\n",
        "\n",
        "# Set how many pages to visit from each domain\n",
        "visit_limit = 20\n",
        "\n",
        "# Start crawling from the seed URLs\n",
        "# Make sure you have defined seed_urls and domain_restriction\n",
        "# Example:\n",
        "# seed_urls = ['https://www.example.com']\n",
        "# domain_restriction = 'example.com'\n",
        "\n",
        "# Using the defined 'crawl' function\n",
        "crawled_data, link_graph = crawl(seed_urls, domain_restriction, max_pages=crawl_limit)\n",
        "\n",
        "# Note: The original code also had a visit_limit per domain,\n",
        "# the current 'crawl' function only has a total max_pages.\n",
        "# If you need a per-domain limit, the 'crawl' function would need to be modified.\n",
        "\n",
        "print(f\"Crawled {len(crawled_data)} pages.\")"
      ],
      "metadata": {
        "colab": {
          "base_uri": "https://localhost:8080/"
        },
        "id": "J8DZQxQdy-i6",
        "outputId": "73ab86ce-ab27-4bc1-fd02-92fa07c28af2"
      },
      "execution_count": 37,
      "outputs": [
        {
          "output_type": "stream",
          "name": "stdout",
          "text": [
            "Crawled 100 pages.\n"
          ]
        }
      ]
    },
    {
      "cell_type": "code",
      "source": [
        "inverted_index={\n",
        "    'messi': ['https://goal.com/article1', 'https://espn.com/messi-profile'],\n",
        "    'goal': ['https://fifa.com/match1', 'https://bbc.com/sport-football'],\n",
        "\n",
        "}\n",
        "\n",
        "web_connection={\n",
        "    'https://goal.com/home': [\n",
        "        'https://goal.com/article1',\n",
        "        'https://espn.com/match-report'\n",
        "    ],\n",
        "    'https://espn.com/match-report': [\n",
        "        'https://fifa.com/match',\n",
        "        'https://bbc.com/sport-football'\n",
        "    ],\n",
        "\n",
        "}\n",
        "\n",
        "\n",
        "print(inverted_index)\n",
        "print(web_connection)\n"
      ],
      "metadata": {
        "colab": {
          "base_uri": "https://localhost:8080/"
        },
        "id": "tA7ZrFTy2G1D",
        "outputId": "c38eadc7-e4b3-4fbf-c853-329b4725e0f2"
      },
      "execution_count": 38,
      "outputs": [
        {
          "output_type": "stream",
          "name": "stdout",
          "text": [
            "{'messi': ['https://goal.com/article1', 'https://espn.com/messi-profile'], 'goal': ['https://fifa.com/match1', 'https://bbc.com/sport-football']}\n",
            "{'https://goal.com/home': ['https://goal.com/article1', 'https://espn.com/match-report'], 'https://espn.com/match-report': ['https://fifa.com/match', 'https://bbc.com/sport-football']}\n"
          ]
        }
      ]
    },
    {
      "cell_type": "code",
      "source": [
        "# web_connection is assumed to be in this format:\n",
        "# {\n",
        "#     'page1': ['link1', 'link2'],\n",
        "#     'page2': ['link3', 'link4'],\n",
        "#     ...\n",
        "# }\n",
        "\n",
        "def build_web_graph(web_connection):\n",
        "    G = nx.DiGraph()  # Directed graph\n",
        "    for source, targets in web_connection.items():\n",
        "        for target in targets:\n",
        "            G.add_edge(source, target)\n",
        "    return G\n",
        "\n",
        "# Build the graph\n",
        "web_graph = build_web_graph(web_connection)\n",
        "\n",
        "# Optional: Check basic info\n",
        "print(\"Number of nodes (pages):\", web_graph.number_of_nodes())\n",
        "print(\"Number of edges (links):\", web_graph.number_of_edges())\n",
        "\n"
      ],
      "metadata": {
        "id": "dMaZZ8MQ4bky",
        "outputId": "006270cf-e18b-4264-f6b2-0bc5f09b5982",
        "colab": {
          "base_uri": "https://localhost:8080/"
        }
      },
      "execution_count": 39,
      "outputs": [
        {
          "output_type": "stream",
          "name": "stdout",
          "text": [
            "Number of nodes (pages): 5\n",
            "Number of edges (links): 4\n"
          ]
        }
      ]
    },
    {
      "cell_type": "code",
      "source": [
        "# Compute PageRank scores for each page\n",
        "page_rank_scores = nx.pagerank(web_graph)\n",
        "\n",
        "# Example: print top 5 pages by PageRank\n",
        "top_pagerank = sorted(page_rank_scores.items(), key=lambda x: x[1], reverse=True)[:5]\n",
        "print(\"Top 5 pages by PageRank:\")\n",
        "for url, score in top_pagerank:\n",
        "    print(f\"{url} — score: {score:.5f}\")\n",
        "\n",
        "\n",
        "\n",
        "\n",
        "# Compute HITS scores (authority and hub)\n",
        "hubs, authorities = nx.hits(web_graph, max_iter=100, normalized=True)\n",
        "\n",
        "# Example: top 5 authoritative pages\n",
        "top_authorities = sorted(authorities.items(), key=lambda x: x[1], reverse=True)[:5]\n",
        "print(\"\\nTop 5 pages by HITS Authority:\")\n",
        "for url, score in top_authorities:\n",
        "    print(f\"{url} — authority: {score:.5f}\")\n",
        "\n",
        "\n",
        "\n",
        "\n",
        "\n",
        "\n",
        "def search(query, inverted_index, ranking_scores, top_k=10):\n",
        "    query_terms = query.lower().split()\n",
        "    matching_urls = set()\n",
        "\n",
        "    # Gather URLs that contain any of the query terms\n",
        "    for term in query_terms:\n",
        "        if term in inverted_index:\n",
        "            matching_urls.update(inverted_index[term])\n",
        "\n",
        "    # Rank results using the provided scores (PageRank or Authority)\n",
        "    ranked_results = sorted(\n",
        "        matching_urls,\n",
        "        key=lambda url: ranking_scores.get(url, 0),\n",
        "        reverse=True\n",
        "    )\n",
        "\n",
        "    return ranked_results[:top_k]\n",
        "\n",
        "# Search example using PageRank\n",
        "query = \"goalkeeper\"\n",
        "results = search(query, inverted_index, page_rank_scores)\n",
        "\n",
        "print(\"\\nTop results for:\", query)\n",
        "for i, url in enumerate(results, 1):\n",
        "    print(f\"{i}. {url}\")\n",
        "\n",
        "\n"
      ],
      "metadata": {
        "id": "xseiXXc150rz",
        "outputId": "fb99990a-5fdf-45d6-a0f4-61ef9ef245d7",
        "colab": {
          "base_uri": "https://localhost:8080/"
        }
      },
      "execution_count": 47,
      "outputs": [
        {
          "output_type": "stream",
          "name": "stdout",
          "text": [
            "Top 5 pages by PageRank:\n",
            "https://fifa.com/match — score: 0.22739\n",
            "https://bbc.com/sport-football — score: 0.22739\n",
            "https://goal.com/article1 — score: 0.20181\n",
            "https://espn.com/match-report — score: 0.20181\n",
            "https://goal.com/home — score: 0.14162\n",
            "\n",
            "Top 5 pages by HITS Authority:\n",
            "https://goal.com/article1 — authority: 0.64300\n",
            "https://espn.com/match-report — authority: 0.64300\n",
            "https://goal.com/home — authority: 0.00000\n",
            "https://fifa.com/match — authority: -0.14300\n",
            "https://bbc.com/sport-football — authority: -0.14300\n",
            "\n",
            "Top results for: goalkeeper\n"
          ]
        }
      ]
    },
    {
      "cell_type": "code",
      "source": [
        "def search_engine(query, inverted_index, rank_scores, top_k=10):\n",
        "    query_terms = query.lower().split()\n",
        "    matched_urls = set()\n",
        "\n",
        "    # Collect URLs that contain any query term\n",
        "    for term in query_terms:\n",
        "        if term in inverted_index:\n",
        "            matched_urls.update(inverted_index[term])\n",
        "\n",
        "    # Rank matched URLs by their scores (PageRank or HITS Authority)\n",
        "    ranked_results = sorted(\n",
        "        matched_urls,\n",
        "        key=lambda url: rank_scores.get(url, 0),\n",
        "        reverse=True\n",
        "    )\n",
        "\n",
        "    return ranked_results[:top_k]\n"
      ],
      "metadata": {
        "id": "MTHh8Ego6Xk0"
      },
      "execution_count": 48,
      "outputs": []
    },
    {
      "cell_type": "code",
      "source": [
        "print(\"Domain-Specific Search Engine (type 'exit' to quit)\")\n",
        "\n",
        "while True:\n",
        "    user_query = input(\"\\nEnter search keywords: \")\n",
        "    if user_query.lower() == 'exit':\n",
        "        print(\"Goodbye!\")\n",
        "        break\n",
        "\n",
        "    # Choose ranking algorithm here ('pagerank' or 'hits')\n",
        "    ranking_choice = 'pagerank'  # or 'hits'\n",
        "\n",
        "    if ranking_choice == 'pagerank':\n",
        "        scores = page_rank_scores\n",
        "    else:\n",
        "        scores = authorities\n",
        "\n",
        "    results = search_engine(user_query, inverted_index, scores, top_k=10)\n",
        "\n",
        "    if results:\n",
        "        print(f\"\\nTop results ({ranking_choice} ranking):\")\n",
        "        for i, url in enumerate(results, 1):\n",
        "            print(f\"{i}. {url}\")\n",
        "    else:\n",
        "        print(\"No results found.\")\n"
      ],
      "metadata": {
        "id": "QpaKIP5c8OFr",
        "outputId": "5c2d6e2e-a35b-4a01-a06b-0893e2da60a4",
        "colab": {
          "base_uri": "https://localhost:8080/"
        }
      },
      "execution_count": null,
      "outputs": [
        {
          "output_type": "stream",
          "name": "stdout",
          "text": [
            "Domain-Specific Search Engine (type 'exit' to quit)\n"
          ]
        }
      ]
    }
  ]
}